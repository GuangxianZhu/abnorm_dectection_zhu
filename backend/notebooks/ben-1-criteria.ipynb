{
 "cells": [
  {
   "cell_type": "code",
   "execution_count": 1,
   "metadata": {},
   "outputs": [],
   "source": [
    "%load_ext autoreload\n",
    "%autoreload 2"
   ]
  },
  {
   "cell_type": "code",
   "execution_count": 3,
   "metadata": {},
   "outputs": [],
   "source": [
    "import sys\n",
    "sys.path.append(\"../\")\n",
    "from dataclasses import dataclass\n",
    "import numpy as np\n",
    "\n",
    "from criteria import Label"
   ]
  },
  {
   "attachments": {},
   "cell_type": "markdown",
   "metadata": {},
   "source": [
    "## Accuracy"
   ]
  },
  {
   "attachments": {},
   "cell_type": "markdown",
   "metadata": {},
   "source": [
    "#### Dummy Data"
   ]
  },
  {
   "cell_type": "code",
   "execution_count": 4,
   "metadata": {},
   "outputs": [],
   "source": [
    "#accuracy\n",
    "dummy_preds_list = [Label(0), Label(1), Label(0), Label(1), Label(0), Label(1), Label(0), Label(1)] #n = 8\n",
    "dummy_true_list = [Label(0), Label(0), Label(0), Label(1), Label(1), Label(1), Label(0), Label(1)] #n = 8"
   ]
  },
  {
   "attachments": {},
   "cell_type": "markdown",
   "metadata": {},
   "source": [
    "#### Method"
   ]
  },
  {
   "cell_type": "code",
   "execution_count": 5,
   "metadata": {},
   "outputs": [],
   "source": [
    "def nb_accuracy(preds, true):\n",
    "\n",
    "    correct_predictions=0\n",
    "    total_predictions=0\n",
    "\n",
    "    for prediction, ground_truth in zip(preds, true):\n",
    "        if prediction == ground_truth:\n",
    "            correct_predictions += 1\n",
    "        total_predictions += 1\n",
    "\n",
    "    acc = correct_predictions / total_predictions\n",
    "\n",
    "    return acc"
   ]
  },
  {
   "cell_type": "code",
   "execution_count": 6,
   "metadata": {},
   "outputs": [
    {
     "data": {
      "text/plain": [
       "0.75"
      ]
     },
     "execution_count": 6,
     "metadata": {},
     "output_type": "execute_result"
    }
   ],
   "source": [
    "nb_accuracy(dummy_preds_list, dummy_true_list)"
   ]
  },
  {
   "attachments": {},
   "cell_type": "markdown",
   "metadata": {},
   "source": [
    "#### Import"
   ]
  },
  {
   "cell_type": "code",
   "execution_count": 7,
   "metadata": {},
   "outputs": [],
   "source": [
    "from criteria import accuracy"
   ]
  },
  {
   "cell_type": "code",
   "execution_count": 8,
   "metadata": {},
   "outputs": [
    {
     "data": {
      "text/plain": [
       "0.75"
      ]
     },
     "execution_count": 8,
     "metadata": {},
     "output_type": "execute_result"
    }
   ],
   "source": [
    "accuracy(dummy_preds_list, dummy_true_list)"
   ]
  },
  {
   "attachments": {},
   "cell_type": "markdown",
   "metadata": {},
   "source": [
    "## iou"
   ]
  },
  {
   "attachments": {},
   "cell_type": "markdown",
   "metadata": {},
   "source": [
    "#### Dummy Data"
   ]
  },
  {
   "cell_type": "code",
   "execution_count": 14,
   "metadata": {},
   "outputs": [],
   "source": [
    "dummy_mask_preds = [np.zeros((50,100)) for _ in range(8)]\n",
    "dummy_mask_labels = [np.zeros((50,100)) for _ in range(8)]\n",
    "\n",
    "for i, arr in enumerate(dummy_mask_preds):\n",
    "    arr[20 + i : 40 + i , 30 + i*2 : 70 + i*2] = 1 #20x40 rectangle, 20:40 to 27:47,  30:70 to 44:84\n",
    "for i, arr in enumerate(dummy_mask_labels):\n",
    "    arr[27 - i : 47 - i , 44 - i*2 : 84 - i*2] = 1 #20x40 rectangle, 27:47 to 20:40,  44:84 to 30:70"
   ]
  },
  {
   "cell_type": "code",
   "execution_count": 15,
   "metadata": {},
   "outputs": [],
   "source": [
    "mp = dummy_mask_preds[0]\n",
    "ml = dummy_mask_labels[0]"
   ]
  },
  {
   "cell_type": "code",
   "execution_count": 16,
   "metadata": {},
   "outputs": [
    {
     "data": {
      "text/plain": [
       "(800, 800, 338)"
      ]
     },
     "execution_count": 16,
     "metadata": {},
     "output_type": "execute_result"
    }
   ],
   "source": [
    "np.count_nonzero(mp==1), np.count_nonzero(ml==1), np.logical_and(mp, ml).sum()"
   ]
  },
  {
   "attachments": {},
   "cell_type": "markdown",
   "metadata": {},
   "source": [
    "#### Method"
   ]
  },
  {
   "cell_type": "code",
   "execution_count": 17,
   "metadata": {},
   "outputs": [],
   "source": [
    "def nb_iou(mask_preds, mask_labels):\n",
    "    ious = []\n",
    "    for prediction, label in zip(mask_preds, mask_labels):\n",
    "\n",
    "        pred_area = np.count_nonzero(prediction == 1)\n",
    "        label_area = np.count_nonzero(label == 1)\n",
    "        intersect_area = np.count_nonzero(np.logical_and(prediction, label))\n",
    "        \n",
    "        ioveru = intersect_area / (pred_area + label_area - intersect_area)\n",
    "        ious.append(ioveru)\n",
    "\n",
    "    return ious"
   ]
  },
  {
   "cell_type": "code",
   "execution_count": 18,
   "metadata": {},
   "outputs": [
    {
     "data": {
      "text/plain": [
       "[0.26782884310618066,\n",
       " 0.391304347826087,\n",
       " 0.5655577299412916,\n",
       " 0.8223234624145785,\n",
       " 0.8223234624145785,\n",
       " 0.5655577299412916,\n",
       " 0.391304347826087,\n",
       " 0.26782884310618066]"
      ]
     },
     "execution_count": 18,
     "metadata": {},
     "output_type": "execute_result"
    }
   ],
   "source": [
    "nb_iou(dummy_mask_preds, dummy_mask_labels)"
   ]
  },
  {
   "attachments": {},
   "cell_type": "markdown",
   "metadata": {},
   "source": [
    "#### Import\n"
   ]
  },
  {
   "cell_type": "code",
   "execution_count": 19,
   "metadata": {},
   "outputs": [],
   "source": [
    "from criteria import iou"
   ]
  },
  {
   "cell_type": "code",
   "execution_count": 20,
   "metadata": {},
   "outputs": [
    {
     "data": {
      "text/plain": [
       "[0.26782884310618066,\n",
       " 0.391304347826087,\n",
       " 0.5655577299412916,\n",
       " 0.8223234624145785,\n",
       " 0.8223234624145785,\n",
       " 0.5655577299412916,\n",
       " 0.391304347826087,\n",
       " 0.26782884310618066]"
      ]
     },
     "execution_count": 20,
     "metadata": {},
     "output_type": "execute_result"
    }
   ],
   "source": [
    "iou(dummy_mask_preds, dummy_mask_labels)"
   ]
  }
 ],
 "metadata": {
  "kernelspec": {
   "display_name": ".venv",
   "language": "python",
   "name": "python3"
  },
  "language_info": {
   "codemirror_mode": {
    "name": "ipython",
    "version": 3
   },
   "file_extension": ".py",
   "mimetype": "text/x-python",
   "name": "python",
   "nbconvert_exporter": "python",
   "pygments_lexer": "ipython3",
   "version": "3.10.9"
  },
  "orig_nbformat": 4,
  "vscode": {
   "interpreter": {
    "hash": "5061d35ce3586772e11e8e205d1e626d0ccd58741a885097d50ce0399a9ba1f8"
   }
  }
 },
 "nbformat": 4,
 "nbformat_minor": 2
}
