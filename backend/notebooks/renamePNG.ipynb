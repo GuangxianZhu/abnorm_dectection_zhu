{
 "cells": [
  {
   "cell_type": "code",
   "execution_count": 1,
   "metadata": {},
   "outputs": [
    {
     "name": "stdout",
     "output_type": "stream",
     "text": [
      "['broken_teeth', 'combined', 'fabric_border', 'fabric_interior', 'rough', 'split_teeth', 'squeezed_teeth']\n"
     ]
    }
   ],
   "source": [
    "import os\n",
    "import shutil\n",
    "\n",
    "# Define the source and destination directories\n",
    "except_list = ['good', 'ALL', 'ALL_zhu']\n",
    "# Get a list of all directories in the current folder\n",
    "all_dirs = [d for d in os.listdir('.') if os.path.isdir(d)]\n",
    "# Filter out the directories in the except_list\n",
    "bad_img_fld = [d for d in all_dirs if d not in except_list]\n",
    "print(bad_img_fld)\n",
    "\n",
    "good_img_fld = ['good']\n",
    "dest_fld = 'ALL_zhu'\n",
    "\n",
    "# Ensure the destination directory exists\n",
    "os.makedirs(dest_fld, exist_ok=True)\n",
    "\n",
    "# Process the bad images\n",
    "bad_id = 0\n",
    "for fld in bad_img_fld:\n",
    "    for i, filename in enumerate(os.listdir(fld), start=1):\n",
    "        # Only process .png files\n",
    "        if filename.endswith('.png'):\n",
    "            new_filename = f'NG_{bad_id}.png'\n",
    "            bad_id += 1\n",
    "            # Rename and move the file\n",
    "            shutil.copy(os.path.join(fld, filename), os.path.join(dest_fld, new_filename))\n",
    "\n",
    "# Process the good images\n",
    "good_id = 0\n",
    "for fld in good_img_fld:\n",
    "    for i, filename in enumerate(os.listdir(fld), start=1):\n",
    "        # Only process .png files\n",
    "        if filename.endswith('.png'):\n",
    "            new_filename = f'OK_{good_id}.png'\n",
    "            good_id += 1\n",
    "            # Rename and move the file\n",
    "            shutil.copy(os.path.join(fld, filename), os.path.join(dest_fld, new_filename))\n"
   ]
  }
 ],
 "metadata": {
  "kernelspec": {
   "display_name": "backend-bJJBwELJ-py3.10",
   "language": "python",
   "name": "python3"
  },
  "language_info": {
   "codemirror_mode": {
    "name": "ipython",
    "version": 3
   },
   "file_extension": ".py",
   "mimetype": "text/x-python",
   "name": "python",
   "nbconvert_exporter": "python",
   "pygments_lexer": "ipython3",
   "version": "3.10.9"
  },
  "orig_nbformat": 4
 },
 "nbformat": 4,
 "nbformat_minor": 2
}
